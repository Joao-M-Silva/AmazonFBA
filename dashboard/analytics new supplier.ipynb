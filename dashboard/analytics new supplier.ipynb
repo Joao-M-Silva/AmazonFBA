{
 "cells": [
  {
   "cell_type": "code",
   "execution_count": 2,
   "metadata": {},
   "outputs": [],
   "source": [
    "from typing import List\n",
    "import pandas as pd\n",
    "import json\n",
    "from datetime import date\n",
    "import products.utils as product_utils\n",
    "from plotly.subplots import make_subplots\n",
    "import plotly.graph_objects as go\n",
    "import numpy as np\n"
   ]
  },
  {
   "cell_type": "code",
   "execution_count": 55,
   "metadata": {},
   "outputs": [],
   "source": [
    "df = pd.read_csv(\"54979019592.txt\", sep='\\t', lineterminator='\\r')"
   ]
  },
  {
   "cell_type": "code",
   "execution_count": 60,
   "metadata": {},
   "outputs": [
    {
     "data": {
      "text/plain": [
       "Index(['amazon-order-id', 'merchant-order-id', 'purchase-date',\n",
       "       'last-updated-date', 'order-status', 'fulfillment-channel',\n",
       "       'sales-channel', 'order-channel', 'url', 'ship-service-level',\n",
       "       'product-name', 'sku', 'asin', 'item-status', 'quantity', 'currency',\n",
       "       'item-price', 'item-tax', 'shipping-price', 'shipping-tax',\n",
       "       'gift-wrap-price', 'gift-wrap-tax', 'item-promotion-discount',\n",
       "       'ship-promotion-discount', 'ship-city', 'ship-state',\n",
       "       'ship-postal-code', 'ship-country', 'promotion-ids',\n",
       "       'signature-confirmation-recommended '],\n",
       "      dtype='object')"
      ]
     },
     "execution_count": 60,
     "metadata": {},
     "output_type": "execute_result"
    }
   ],
   "source": [
    "df.keys()"
   ]
  },
  {
   "cell_type": "code",
   "execution_count": 61,
   "metadata": {},
   "outputs": [
    {
     "data": {
      "text/plain": [
       "0                                                NaN\n",
       "1                             VPC-1-233479575 Coupon\n",
       "2     US Core Free Shipping Promotion A3JU1FCINF5SD0\n",
       "3     US Core Free Shipping Promotion A3JU1FCINF5SD0\n",
       "4                             VPC-1-233459149 Coupon\n",
       "5                                                NaN\n",
       "6                             VPC-1-233372906 Coupon\n",
       "7                             VPC-1-233372906 Coupon\n",
       "8     US Core Free Shipping Promotion A3JU1FCINF5SD0\n",
       "9                                                NaN\n",
       "10                                               NaN\n",
       "11                            VPC-1-232536622 Coupon\n",
       "12                            VPC-1-232536622 Coupon\n",
       "13                                               NaN\n",
       "14                                               NaN\n",
       "15                            VPC-1-232536622 Coupon\n",
       "16                            VPC-1-232536622 Coupon\n",
       "17                            VPC-1-232536622 Coupon\n",
       "18                            VPC-1-232536622 Coupon\n",
       "19                                               NaN\n",
       "20                                               NaN\n",
       "21    US Core Free Shipping Promotion A3JU1FCINF5SD0\n",
       "22                            VPC-1-232536622 Coupon\n",
       "23                            VPC-1-232536622 Coupon\n",
       "24                                               NaN\n",
       "25                            VPC-1-232536622 Coupon\n",
       "26                            VPC-1-232536622 Coupon\n",
       "27                            VPC-1-232536622 Coupon\n",
       "28                                               NaN\n",
       "29                            VPC-1-232536622 Coupon\n",
       "30                            VPC-1-232536622 Coupon\n",
       "31    US Core Free Shipping Promotion A3JU1FCINF5SD0\n",
       "32                                               NaN\n",
       "33                                               NaN\n",
       "34                                               NaN\n",
       "35                            VPC-1-232536622 Coupon\n",
       "36                            VPC-1-232536622 Coupon\n",
       "37                                               NaN\n",
       "38                            VPC-1-232536622 Coupon\n",
       "39                                               NaN\n",
       "40                                               NaN\n",
       "Name: promotion-ids, dtype: object"
      ]
     },
     "execution_count": 61,
     "metadata": {},
     "output_type": "execute_result"
    }
   ],
   "source": [
    "df[\"promotion-ids\"]"
   ]
  },
  {
   "attachments": {},
   "cell_type": "markdown",
   "metadata": {},
   "source": [
    "# Margins Analysis"
   ]
  },
  {
   "cell_type": "code",
   "execution_count": 3,
   "metadata": {},
   "outputs": [],
   "source": [
    "package_price = 0.8\n",
    "cotton_price = 0.28\n",
    "card_price = 0.0"
   ]
  },
  {
   "cell_type": "code",
   "execution_count": 7,
   "metadata": {},
   "outputs": [
    {
     "data": {
      "text/plain": [
       "2.2"
      ]
     },
     "execution_count": 7,
     "metadata": {},
     "output_type": "execute_result"
    }
   ],
   "source": [
    "1.5 + 0.6 + 0.1"
   ]
  },
  {
   "cell_type": "code",
   "execution_count": 4,
   "metadata": {},
   "outputs": [],
   "source": [
    "package = product_utils.Package(\n",
    "    width=20,\n",
    "    lenght=25.9,\n",
    "    height=12.5,\n",
    "    weight=1.22,\n",
    "    cost=package_price + cotton_price + card_price\n",
    ")"
   ]
  },
  {
   "cell_type": "code",
   "execution_count": 5,
   "metadata": {},
   "outputs": [],
   "source": [
    "box = product_utils.Box(\n",
    "    width=52,\n",
    "    lenght=29,\n",
    "    height=45,\n",
    "    weight=9.98,\n",
    "    number_packages=6,\n",
    "    package=package,\n",
    ")"
   ]
  },
  {
   "cell_type": "code",
   "execution_count": 6,
   "metadata": {},
   "outputs": [],
   "source": [
    "INITIAL_NUMBER_UNITS = 496"
   ]
  },
  {
   "cell_type": "code",
   "execution_count": 7,
   "metadata": {},
   "outputs": [],
   "source": [
    "tray_price = 3.1\n",
    "assembly_price = 0.0\n",
    "wood_label_price = 0.0\n",
    "soap_dispenser_price = 1.65"
   ]
  },
  {
   "cell_type": "code",
   "execution_count": 8,
   "metadata": {},
   "outputs": [
    {
     "data": {
      "text/plain": [
       "6.4"
      ]
     },
     "execution_count": 8,
     "metadata": {},
     "output_type": "execute_result"
    }
   ],
   "source": [
    "EXW_COST = (soap_dispenser_price*2)+(wood_label_price*3)+assembly_price+tray_price\n",
    "EXW_COST"
   ]
  },
  {
   "cell_type": "code",
   "execution_count": 40,
   "metadata": {},
   "outputs": [
    {
     "data": {
      "text/plain": [
       "3.8669354838709675"
      ]
     },
     "execution_count": 40,
     "metadata": {},
     "output_type": "execute_result"
    }
   ],
   "source": [
    "SHIPMENT_COST = (1500 + 209 + 209) / 496\n",
    "SHIPMENT_COST"
   ]
  },
  {
   "cell_type": "code",
   "execution_count": 9,
   "metadata": {},
   "outputs": [],
   "source": [
    "SHIPMENT_COST_AIR = (5000 + 209 + 209) / 504"
   ]
  },
  {
   "cell_type": "code",
   "execution_count": 27,
   "metadata": {},
   "outputs": [
    {
     "data": {
      "text/plain": [
       "10.338870967741936"
      ]
     },
     "execution_count": 27,
     "metadata": {},
     "output_type": "execute_result"
    }
   ],
   "source": [
    "# Total cost per unit\n",
    "EXW_COST + SHIPMENT_COST + package.cost"
   ]
  },
  {
   "cell_type": "code",
   "execution_count": 34,
   "metadata": {},
   "outputs": [],
   "source": [
    "PRICE = 39.99"
   ]
  },
  {
   "cell_type": "code",
   "execution_count": 35,
   "metadata": {},
   "outputs": [],
   "source": [
    "fees = product_utils.Fees(\n",
    "    amazon_fee=0.15*PRICE+0.99,\n",
    "    fulfillment_fee=7.3,\n",
    ")"
   ]
  },
  {
   "cell_type": "code",
   "execution_count": 36,
   "metadata": {},
   "outputs": [
    {
     "data": {
      "text/plain": [
       "14.288499999999999"
      ]
     },
     "execution_count": 36,
     "metadata": {},
     "output_type": "execute_result"
    }
   ],
   "source": [
    "fees.total_fees"
   ]
  },
  {
   "cell_type": "code",
   "execution_count": 43,
   "metadata": {},
   "outputs": [],
   "source": [
    "product = product_utils.Product(\n",
    "    name=\"Rome Soap Dispenser Set\",\n",
    "    price_before_discount=39.99,\n",
    "    discount=0.0,\n",
    "    exw_cost=EXW_COST,\n",
    "    package=package,\n",
    "    shipment_cost=SHIPMENT_COST,\n",
    "    fees=fees,\n",
    ")"
   ]
  },
  {
   "cell_type": "code",
   "execution_count": 42,
   "metadata": {},
   "outputs": [],
   "source": [
    "p = 33.99 * 0.5 - 0.6"
   ]
  },
  {
   "cell_type": "code",
   "execution_count": 91,
   "metadata": {},
   "outputs": [
    {
     "data": {
      "text/plain": [
       "16.395"
      ]
     },
     "execution_count": 91,
     "metadata": {},
     "output_type": "execute_result"
    }
   ],
   "source": [
    "p"
   ]
  },
  {
   "cell_type": "code",
   "execution_count": 92,
   "metadata": {},
   "outputs": [],
   "source": [
    "payment = p - (0.15*p + 0.99) - 7.33"
   ]
  },
  {
   "cell_type": "code",
   "execution_count": 93,
   "metadata": {},
   "outputs": [
    {
     "data": {
      "text/plain": [
       "5.61575"
      ]
     },
     "execution_count": 93,
     "metadata": {},
     "output_type": "execute_result"
    }
   ],
   "source": [
    "payment"
   ]
  },
  {
   "cell_type": "code",
   "execution_count": 95,
   "metadata": {},
   "outputs": [
    {
     "data": {
      "text/plain": [
       "188.0"
      ]
     },
     "execution_count": 95,
     "metadata": {},
     "output_type": "execute_result"
    }
   ],
   "source": [
    "(20*3 - (5.6*4)) * 5"
   ]
  },
  {
   "cell_type": "code",
   "execution_count": 44,
   "metadata": {},
   "outputs": [
    {
     "data": {
      "application/vnd.plotly.v1+json": {
       "config": {
        "plotlyServerURL": "https://plot.ly"
       },
       "data": [
        {
         "mode": "lines+markers",
         "name": "%TACOS = 0",
         "type": "scatter",
         "x": [
          1,
          2,
          3,
          4,
          5,
          6,
          7,
          8,
          9
         ],
         "xaxis": "x",
         "y": [
          0.27320348479609885,
          0.31238117608527827,
          0.3254404065150048,
          0.33197002172986795,
          0.3358877908587859,
          0.3384996369447312,
          0.34036524129183493,
          0.3417644445521628,
          0.34285271375464
         ],
         "yaxis": "y"
        },
        {
         "mode": "lines+markers",
         "name": "%TACOS = 0",
         "type": "scatter",
         "x": [
          1,
          2,
          3,
          4,
          5,
          6,
          7,
          8,
          9
         ],
         "xaxis": "x2",
         "y": [
          328.22530061660916,
          750.5863660859458,
          1172.9474315552825,
          1595.3084970246189,
          2017.6695624939555,
          2440.030627963292,
          2862.391693432628,
          3284.7527589019655,
          3707.1138243713017
         ],
         "yaxis": "y2"
        },
        {
         "mode": "lines+markers",
         "name": "%TACOS = 5",
         "type": "scatter",
         "x": [
          1,
          2,
          3,
          4,
          5,
          6,
          7,
          8,
          9
         ],
         "xaxis": "x",
         "y": [
          0.22320348479609886,
          0.2623811760852783,
          0.2754404065150048,
          0.28197002172986796,
          0.2858877908587859,
          0.2884996369447312,
          0.29036524129183494,
          0.2917644445521628,
          0.29285271375464
         ],
         "yaxis": "y"
        },
        {
         "mode": "lines+markers",
         "name": "%TACOS = 5",
         "type": "scatter",
         "x": [
          1,
          2,
          3,
          4,
          5,
          6,
          7,
          8,
          9
         ],
         "xaxis": "x2",
         "y": [
          268.1555506166092,
          630.4468660859459,
          992.7381815552824,
          1355.0294970246189,
          1717.3208124939556,
          2079.612127963292,
          2441.9034434326286,
          2804.1947589019655,
          3166.4860743713016
         ],
         "yaxis": "y2"
        },
        {
         "mode": "lines+markers",
         "name": "%TACOS = 10",
         "type": "scatter",
         "x": [
          1,
          2,
          3,
          4,
          5,
          6,
          7,
          8,
          9
         ],
         "xaxis": "x",
         "y": [
          0.17320348479609884,
          0.21238117608527826,
          0.22544040651500477,
          0.23197002172986794,
          0.2358877908587859,
          0.23849963694473117,
          0.24036524129183492,
          0.2417644445521628,
          0.24285271375464
         ],
         "yaxis": "y"
        },
        {
         "mode": "lines+markers",
         "name": "%TACOS = 10",
         "type": "scatter",
         "x": [
          1,
          2,
          3,
          4,
          5,
          6,
          7,
          8,
          9
         ],
         "xaxis": "x2",
         "y": [
          208.0858006166092,
          510.3073660859457,
          812.5289315552825,
          1114.7504970246189,
          1416.9720624939553,
          1719.1936279632919,
          2021.4151934326283,
          2323.6367589019655,
          2625.858324371302
         ],
         "yaxis": "y2"
        },
        {
         "mode": "lines+markers",
         "name": "%TACOS = 15",
         "type": "scatter",
         "x": [
          1,
          2,
          3,
          4,
          5,
          6,
          7,
          8,
          9
         ],
         "xaxis": "x",
         "y": [
          0.12320348479609883,
          0.16238117608527824,
          0.17544040651500475,
          0.18197002172986793,
          0.18588779085878587,
          0.18849963694473115,
          0.1903652412918349,
          0.1917644445521628,
          0.19285271375463997
         ],
         "yaxis": "y"
        },
        {
         "mode": "lines+markers",
         "name": "%TACOS = 15",
         "type": "scatter",
         "x": [
          1,
          2,
          3,
          4,
          5,
          6,
          7,
          8,
          9
         ],
         "xaxis": "x2",
         "y": [
          148.01605061660916,
          390.1678660859457,
          632.3196815552824,
          874.4714970246187,
          1116.6233124939554,
          1358.7751279632917,
          1600.926943432628,
          1843.0787589019649,
          2085.230574371301
         ],
         "yaxis": "y2"
        },
        {
         "mode": "lines+markers",
         "name": "%TACOS = 20",
         "type": "scatter",
         "x": [
          1,
          2,
          3,
          4,
          5,
          6,
          7,
          8,
          9
         ],
         "xaxis": "x",
         "y": [
          0.07320348479609884,
          0.11238117608527826,
          0.12544040651500477,
          0.13197002172986794,
          0.13588779085878588,
          0.13849963694473116,
          0.14036524129183492,
          0.1417644445521628,
          0.14285271375463998
         ],
         "yaxis": "y"
        },
        {
         "mode": "lines+markers",
         "name": "%TACOS = 20",
         "type": "scatter",
         "x": [
          1,
          2,
          3,
          4,
          5,
          6,
          7,
          8,
          9
         ],
         "xaxis": "x2",
         "y": [
          87.94630061660916,
          270.0283660859457,
          452.1104315552825,
          634.1924970246188,
          816.2745624939553,
          998.3566279632919,
          1180.438693432628,
          1362.520758901965,
          1544.6028243713015
         ],
         "yaxis": "y2"
        }
       ],
       "layout": {
        "annotations": [
         {
          "font": {
           "size": 16
          },
          "showarrow": false,
          "text": "Profit Margin Analysis",
          "x": 0.5,
          "xanchor": "center",
          "xref": "paper",
          "y": 1,
          "yanchor": "bottom",
          "yref": "paper"
         },
         {
          "font": {
           "size": 16
          },
          "showarrow": false,
          "text": "Monthly Profit Analysis",
          "x": 0.5,
          "xanchor": "center",
          "xref": "paper",
          "y": 0.375,
          "yanchor": "bottom",
          "yref": "paper"
         }
        ],
        "height": 900,
        "template": {
         "data": {
          "bar": [
           {
            "error_x": {
             "color": "#2a3f5f"
            },
            "error_y": {
             "color": "#2a3f5f"
            },
            "marker": {
             "line": {
              "color": "#E5ECF6",
              "width": 0.5
             },
             "pattern": {
              "fillmode": "overlay",
              "size": 10,
              "solidity": 0.2
             }
            },
            "type": "bar"
           }
          ],
          "barpolar": [
           {
            "marker": {
             "line": {
              "color": "#E5ECF6",
              "width": 0.5
             },
             "pattern": {
              "fillmode": "overlay",
              "size": 10,
              "solidity": 0.2
             }
            },
            "type": "barpolar"
           }
          ],
          "carpet": [
           {
            "aaxis": {
             "endlinecolor": "#2a3f5f",
             "gridcolor": "white",
             "linecolor": "white",
             "minorgridcolor": "white",
             "startlinecolor": "#2a3f5f"
            },
            "baxis": {
             "endlinecolor": "#2a3f5f",
             "gridcolor": "white",
             "linecolor": "white",
             "minorgridcolor": "white",
             "startlinecolor": "#2a3f5f"
            },
            "type": "carpet"
           }
          ],
          "choropleth": [
           {
            "colorbar": {
             "outlinewidth": 0,
             "ticks": ""
            },
            "type": "choropleth"
           }
          ],
          "contour": [
           {
            "colorbar": {
             "outlinewidth": 0,
             "ticks": ""
            },
            "colorscale": [
             [
              0,
              "#0d0887"
             ],
             [
              0.1111111111111111,
              "#46039f"
             ],
             [
              0.2222222222222222,
              "#7201a8"
             ],
             [
              0.3333333333333333,
              "#9c179e"
             ],
             [
              0.4444444444444444,
              "#bd3786"
             ],
             [
              0.5555555555555556,
              "#d8576b"
             ],
             [
              0.6666666666666666,
              "#ed7953"
             ],
             [
              0.7777777777777778,
              "#fb9f3a"
             ],
             [
              0.8888888888888888,
              "#fdca26"
             ],
             [
              1,
              "#f0f921"
             ]
            ],
            "type": "contour"
           }
          ],
          "contourcarpet": [
           {
            "colorbar": {
             "outlinewidth": 0,
             "ticks": ""
            },
            "type": "contourcarpet"
           }
          ],
          "heatmap": [
           {
            "colorbar": {
             "outlinewidth": 0,
             "ticks": ""
            },
            "colorscale": [
             [
              0,
              "#0d0887"
             ],
             [
              0.1111111111111111,
              "#46039f"
             ],
             [
              0.2222222222222222,
              "#7201a8"
             ],
             [
              0.3333333333333333,
              "#9c179e"
             ],
             [
              0.4444444444444444,
              "#bd3786"
             ],
             [
              0.5555555555555556,
              "#d8576b"
             ],
             [
              0.6666666666666666,
              "#ed7953"
             ],
             [
              0.7777777777777778,
              "#fb9f3a"
             ],
             [
              0.8888888888888888,
              "#fdca26"
             ],
             [
              1,
              "#f0f921"
             ]
            ],
            "type": "heatmap"
           }
          ],
          "heatmapgl": [
           {
            "colorbar": {
             "outlinewidth": 0,
             "ticks": ""
            },
            "colorscale": [
             [
              0,
              "#0d0887"
             ],
             [
              0.1111111111111111,
              "#46039f"
             ],
             [
              0.2222222222222222,
              "#7201a8"
             ],
             [
              0.3333333333333333,
              "#9c179e"
             ],
             [
              0.4444444444444444,
              "#bd3786"
             ],
             [
              0.5555555555555556,
              "#d8576b"
             ],
             [
              0.6666666666666666,
              "#ed7953"
             ],
             [
              0.7777777777777778,
              "#fb9f3a"
             ],
             [
              0.8888888888888888,
              "#fdca26"
             ],
             [
              1,
              "#f0f921"
             ]
            ],
            "type": "heatmapgl"
           }
          ],
          "histogram": [
           {
            "marker": {
             "pattern": {
              "fillmode": "overlay",
              "size": 10,
              "solidity": 0.2
             }
            },
            "type": "histogram"
           }
          ],
          "histogram2d": [
           {
            "colorbar": {
             "outlinewidth": 0,
             "ticks": ""
            },
            "colorscale": [
             [
              0,
              "#0d0887"
             ],
             [
              0.1111111111111111,
              "#46039f"
             ],
             [
              0.2222222222222222,
              "#7201a8"
             ],
             [
              0.3333333333333333,
              "#9c179e"
             ],
             [
              0.4444444444444444,
              "#bd3786"
             ],
             [
              0.5555555555555556,
              "#d8576b"
             ],
             [
              0.6666666666666666,
              "#ed7953"
             ],
             [
              0.7777777777777778,
              "#fb9f3a"
             ],
             [
              0.8888888888888888,
              "#fdca26"
             ],
             [
              1,
              "#f0f921"
             ]
            ],
            "type": "histogram2d"
           }
          ],
          "histogram2dcontour": [
           {
            "colorbar": {
             "outlinewidth": 0,
             "ticks": ""
            },
            "colorscale": [
             [
              0,
              "#0d0887"
             ],
             [
              0.1111111111111111,
              "#46039f"
             ],
             [
              0.2222222222222222,
              "#7201a8"
             ],
             [
              0.3333333333333333,
              "#9c179e"
             ],
             [
              0.4444444444444444,
              "#bd3786"
             ],
             [
              0.5555555555555556,
              "#d8576b"
             ],
             [
              0.6666666666666666,
              "#ed7953"
             ],
             [
              0.7777777777777778,
              "#fb9f3a"
             ],
             [
              0.8888888888888888,
              "#fdca26"
             ],
             [
              1,
              "#f0f921"
             ]
            ],
            "type": "histogram2dcontour"
           }
          ],
          "mesh3d": [
           {
            "colorbar": {
             "outlinewidth": 0,
             "ticks": ""
            },
            "type": "mesh3d"
           }
          ],
          "parcoords": [
           {
            "line": {
             "colorbar": {
              "outlinewidth": 0,
              "ticks": ""
             }
            },
            "type": "parcoords"
           }
          ],
          "pie": [
           {
            "automargin": true,
            "type": "pie"
           }
          ],
          "scatter": [
           {
            "fillpattern": {
             "fillmode": "overlay",
             "size": 10,
             "solidity": 0.2
            },
            "type": "scatter"
           }
          ],
          "scatter3d": [
           {
            "line": {
             "colorbar": {
              "outlinewidth": 0,
              "ticks": ""
             }
            },
            "marker": {
             "colorbar": {
              "outlinewidth": 0,
              "ticks": ""
             }
            },
            "type": "scatter3d"
           }
          ],
          "scattercarpet": [
           {
            "marker": {
             "colorbar": {
              "outlinewidth": 0,
              "ticks": ""
             }
            },
            "type": "scattercarpet"
           }
          ],
          "scattergeo": [
           {
            "marker": {
             "colorbar": {
              "outlinewidth": 0,
              "ticks": ""
             }
            },
            "type": "scattergeo"
           }
          ],
          "scattergl": [
           {
            "marker": {
             "colorbar": {
              "outlinewidth": 0,
              "ticks": ""
             }
            },
            "type": "scattergl"
           }
          ],
          "scattermapbox": [
           {
            "marker": {
             "colorbar": {
              "outlinewidth": 0,
              "ticks": ""
             }
            },
            "type": "scattermapbox"
           }
          ],
          "scatterpolar": [
           {
            "marker": {
             "colorbar": {
              "outlinewidth": 0,
              "ticks": ""
             }
            },
            "type": "scatterpolar"
           }
          ],
          "scatterpolargl": [
           {
            "marker": {
             "colorbar": {
              "outlinewidth": 0,
              "ticks": ""
             }
            },
            "type": "scatterpolargl"
           }
          ],
          "scatterternary": [
           {
            "marker": {
             "colorbar": {
              "outlinewidth": 0,
              "ticks": ""
             }
            },
            "type": "scatterternary"
           }
          ],
          "surface": [
           {
            "colorbar": {
             "outlinewidth": 0,
             "ticks": ""
            },
            "colorscale": [
             [
              0,
              "#0d0887"
             ],
             [
              0.1111111111111111,
              "#46039f"
             ],
             [
              0.2222222222222222,
              "#7201a8"
             ],
             [
              0.3333333333333333,
              "#9c179e"
             ],
             [
              0.4444444444444444,
              "#bd3786"
             ],
             [
              0.5555555555555556,
              "#d8576b"
             ],
             [
              0.6666666666666666,
              "#ed7953"
             ],
             [
              0.7777777777777778,
              "#fb9f3a"
             ],
             [
              0.8888888888888888,
              "#fdca26"
             ],
             [
              1,
              "#f0f921"
             ]
            ],
            "type": "surface"
           }
          ],
          "table": [
           {
            "cells": {
             "fill": {
              "color": "#EBF0F8"
             },
             "line": {
              "color": "white"
             }
            },
            "header": {
             "fill": {
              "color": "#C8D4E3"
             },
             "line": {
              "color": "white"
             }
            },
            "type": "table"
           }
          ]
         },
         "layout": {
          "annotationdefaults": {
           "arrowcolor": "#2a3f5f",
           "arrowhead": 0,
           "arrowwidth": 1
          },
          "autotypenumbers": "strict",
          "coloraxis": {
           "colorbar": {
            "outlinewidth": 0,
            "ticks": ""
           }
          },
          "colorscale": {
           "diverging": [
            [
             0,
             "#8e0152"
            ],
            [
             0.1,
             "#c51b7d"
            ],
            [
             0.2,
             "#de77ae"
            ],
            [
             0.3,
             "#f1b6da"
            ],
            [
             0.4,
             "#fde0ef"
            ],
            [
             0.5,
             "#f7f7f7"
            ],
            [
             0.6,
             "#e6f5d0"
            ],
            [
             0.7,
             "#b8e186"
            ],
            [
             0.8,
             "#7fbc41"
            ],
            [
             0.9,
             "#4d9221"
            ],
            [
             1,
             "#276419"
            ]
           ],
           "sequential": [
            [
             0,
             "#0d0887"
            ],
            [
             0.1111111111111111,
             "#46039f"
            ],
            [
             0.2222222222222222,
             "#7201a8"
            ],
            [
             0.3333333333333333,
             "#9c179e"
            ],
            [
             0.4444444444444444,
             "#bd3786"
            ],
            [
             0.5555555555555556,
             "#d8576b"
            ],
            [
             0.6666666666666666,
             "#ed7953"
            ],
            [
             0.7777777777777778,
             "#fb9f3a"
            ],
            [
             0.8888888888888888,
             "#fdca26"
            ],
            [
             1,
             "#f0f921"
            ]
           ],
           "sequentialminus": [
            [
             0,
             "#0d0887"
            ],
            [
             0.1111111111111111,
             "#46039f"
            ],
            [
             0.2222222222222222,
             "#7201a8"
            ],
            [
             0.3333333333333333,
             "#9c179e"
            ],
            [
             0.4444444444444444,
             "#bd3786"
            ],
            [
             0.5555555555555556,
             "#d8576b"
            ],
            [
             0.6666666666666666,
             "#ed7953"
            ],
            [
             0.7777777777777778,
             "#fb9f3a"
            ],
            [
             0.8888888888888888,
             "#fdca26"
            ],
            [
             1,
             "#f0f921"
            ]
           ]
          },
          "colorway": [
           "#636efa",
           "#EF553B",
           "#00cc96",
           "#ab63fa",
           "#FFA15A",
           "#19d3f3",
           "#FF6692",
           "#B6E880",
           "#FF97FF",
           "#FECB52"
          ],
          "font": {
           "color": "#2a3f5f"
          },
          "geo": {
           "bgcolor": "white",
           "lakecolor": "white",
           "landcolor": "#E5ECF6",
           "showlakes": true,
           "showland": true,
           "subunitcolor": "white"
          },
          "hoverlabel": {
           "align": "left"
          },
          "hovermode": "closest",
          "mapbox": {
           "style": "light"
          },
          "paper_bgcolor": "white",
          "plot_bgcolor": "#E5ECF6",
          "polar": {
           "angularaxis": {
            "gridcolor": "white",
            "linecolor": "white",
            "ticks": ""
           },
           "bgcolor": "#E5ECF6",
           "radialaxis": {
            "gridcolor": "white",
            "linecolor": "white",
            "ticks": ""
           }
          },
          "scene": {
           "xaxis": {
            "backgroundcolor": "#E5ECF6",
            "gridcolor": "white",
            "gridwidth": 2,
            "linecolor": "white",
            "showbackground": true,
            "ticks": "",
            "zerolinecolor": "white"
           },
           "yaxis": {
            "backgroundcolor": "#E5ECF6",
            "gridcolor": "white",
            "gridwidth": 2,
            "linecolor": "white",
            "showbackground": true,
            "ticks": "",
            "zerolinecolor": "white"
           },
           "zaxis": {
            "backgroundcolor": "#E5ECF6",
            "gridcolor": "white",
            "gridwidth": 2,
            "linecolor": "white",
            "showbackground": true,
            "ticks": "",
            "zerolinecolor": "white"
           }
          },
          "shapedefaults": {
           "line": {
            "color": "#2a3f5f"
           }
          },
          "ternary": {
           "aaxis": {
            "gridcolor": "white",
            "linecolor": "white",
            "ticks": ""
           },
           "baxis": {
            "gridcolor": "white",
            "linecolor": "white",
            "ticks": ""
           },
           "bgcolor": "#E5ECF6",
           "caxis": {
            "gridcolor": "white",
            "linecolor": "white",
            "ticks": ""
           }
          },
          "title": {
           "x": 0.05
          },
          "xaxis": {
           "automargin": true,
           "gridcolor": "white",
           "linecolor": "white",
           "ticks": "",
           "title": {
            "standoff": 15
           },
           "zerolinecolor": "white",
           "zerolinewidth": 2
          },
          "yaxis": {
           "automargin": true,
           "gridcolor": "white",
           "linecolor": "white",
           "ticks": "",
           "title": {
            "standoff": 15
           },
           "zerolinecolor": "white",
           "zerolinewidth": 2
          }
         }
        },
        "width": 1000,
        "xaxis": {
         "anchor": "y",
         "domain": [
          0,
          1
         ],
         "matches": "x2",
         "showticklabels": false
        },
        "xaxis2": {
         "anchor": "y2",
         "domain": [
          0,
          1
         ],
         "title": {
          "text": "Average Daily Sales"
         }
        },
        "yaxis": {
         "anchor": "x",
         "domain": [
          0.625,
          1
         ],
         "title": {
          "text": "Profit Margin"
         }
        },
        "yaxis2": {
         "anchor": "x2",
         "domain": [
          0,
          0.375
         ],
         "title": {
          "text": "Monthly Profit"
         }
        }
       }
      }
     },
     "metadata": {},
     "output_type": "display_data"
    }
   ],
   "source": [
    "product.analysis(\n",
    "    initial_number_units=INITIAL_NUMBER_UNITS,\n",
    "    month=product_utils.Month.AUGUST\n",
    ")"
   ]
  },
  {
   "cell_type": "code",
   "execution_count": 17,
   "metadata": {},
   "outputs": [
    {
     "data": {
      "text/plain": [
       "0.5215377072432532"
      ]
     },
     "execution_count": 17,
     "metadata": {},
     "output_type": "execute_result"
    }
   ],
   "source": [
    "product.estimate_ROI(initial_units_stored=INITIAL_NUMBER_UNITS, average_daily_units_sold=3)"
   ]
  },
  {
   "attachments": {},
   "cell_type": "markdown",
   "metadata": {},
   "source": [
    "# Performance Analysis"
   ]
  },
  {
   "cell_type": "code",
   "execution_count": 18,
   "metadata": {},
   "outputs": [],
   "source": [
    "data : List[dict] = []\n",
    "#with open(\"analysis/data.json\") as f:\n",
    "#    data = json.load(f)"
   ]
  },
  {
   "cell_type": "code",
   "execution_count": 19,
   "metadata": {},
   "outputs": [],
   "source": [
    "product = Product(\n",
    "    price=PRICE,\n",
    "    exw_cost=EXW_COST,\n",
    "    package_cost=package.cost,\n",
    "    shipment_cost=SHIPMENT_COST,\n",
    "    fees=fees.total_fees,\n",
    ")"
   ]
  },
  {
   "cell_type": "code",
   "execution_count": 20,
   "metadata": {},
   "outputs": [
    {
     "data": {
      "text/plain": [
       "8.057639285714284"
      ]
     },
     "execution_count": 20,
     "metadata": {},
     "output_type": "execute_result"
    }
   ],
   "source": [
    "product.profit()"
   ]
  },
  {
   "cell_type": "code",
   "execution_count": 21,
   "metadata": {},
   "outputs": [
    {
     "data": {
      "text/plain": [
       "0.23566895148401704"
      ]
     },
     "execution_count": 21,
     "metadata": {},
     "output_type": "execute_result"
    }
   ],
   "source": [
    "product.profit_margin()"
   ]
  },
  {
   "cell_type": "code",
   "execution_count": 22,
   "metadata": {},
   "outputs": [
    {
     "data": {
      "text/plain": [
       "21.681925"
      ]
     },
     "execution_count": 22,
     "metadata": {},
     "output_type": "execute_result"
    }
   ],
   "source": [
    "product.net_payment()"
   ]
  },
  {
   "cell_type": "code",
   "execution_count": 23,
   "metadata": {},
   "outputs": [
    {
     "data": {
      "text/plain": [
       "datetime.date(2023, 8, 12)"
      ]
     },
     "execution_count": 23,
     "metadata": {},
     "output_type": "execute_result"
    }
   ],
   "source": [
    "date(2023, 8, 12)"
   ]
  },
  {
   "attachments": {},
   "cell_type": "markdown",
   "metadata": {},
   "source": [
    "### Search terms report"
   ]
  },
  {
   "cell_type": "code",
   "execution_count": 28,
   "metadata": {},
   "outputs": [
    {
     "name": "stderr",
     "output_type": "stream",
     "text": [
      "c:\\Users\\jsilv\\anaconda3\\envs\\amazon_fba\\lib\\site-packages\\openpyxl\\styles\\stylesheet.py:226: UserWarning:\n",
      "\n",
      "Workbook contains no default style, apply openpyxl's default\n",
      "\n"
     ]
    }
   ],
   "source": [
    "report = pd.read_excel(\"ppc/reports/Search term report 09_08___15_08.xlsx\")"
   ]
  },
  {
   "cell_type": "code",
   "execution_count": 29,
   "metadata": {},
   "outputs": [
    {
     "data": {
      "text/plain": [
       "(60, 23)"
      ]
     },
     "execution_count": 29,
     "metadata": {},
     "output_type": "execute_result"
    }
   ],
   "source": [
    "report.shape"
   ]
  },
  {
   "cell_type": "code",
   "execution_count": 31,
   "metadata": {},
   "outputs": [
    {
     "data": {
      "text/plain": [
       "array(['2023-08-11T00:00:00.000000000', '2023-08-14T00:00:00.000000000',\n",
       "       '2023-08-12T00:00:00.000000000', '2023-08-13T00:00:00.000000000',\n",
       "       '2023-08-09T00:00:00.000000000', '2023-08-10T00:00:00.000000000'],\n",
       "      dtype='datetime64[ns]')"
      ]
     },
     "execution_count": 31,
     "metadata": {},
     "output_type": "execute_result"
    }
   ],
   "source": [
    "report[\"Date\"].unique()"
   ]
  },
  {
   "cell_type": "code",
   "execution_count": 32,
   "metadata": {},
   "outputs": [
    {
     "data": {
      "text/html": [
       "<div>\n",
       "<style scoped>\n",
       "    .dataframe tbody tr th:only-of-type {\n",
       "        vertical-align: middle;\n",
       "    }\n",
       "\n",
       "    .dataframe tbody tr th {\n",
       "        vertical-align: top;\n",
       "    }\n",
       "\n",
       "    .dataframe thead th {\n",
       "        text-align: right;\n",
       "    }\n",
       "</style>\n",
       "<table border=\"1\" class=\"dataframe\">\n",
       "  <thead>\n",
       "    <tr style=\"text-align: right;\">\n",
       "      <th></th>\n",
       "      <th>Date</th>\n",
       "      <th>Portfolio name</th>\n",
       "      <th>Currency</th>\n",
       "      <th>Campaign Name</th>\n",
       "      <th>Ad Group Name</th>\n",
       "      <th>Targeting</th>\n",
       "      <th>Match Type</th>\n",
       "      <th>Customer Search Term</th>\n",
       "      <th>Impressions</th>\n",
       "      <th>Clicks</th>\n",
       "      <th>...</th>\n",
       "      <th>7 Day Total Sales</th>\n",
       "      <th>Total Advertising Cost of Sales (ACOS)</th>\n",
       "      <th>Total Return on Advertising Spend (ROAS)</th>\n",
       "      <th>7 Day Total Orders (#)</th>\n",
       "      <th>7 Day Total Units (#)</th>\n",
       "      <th>7 Day Conversion Rate</th>\n",
       "      <th>7 Day Advertised SKU Units (#)</th>\n",
       "      <th>7 Day Other SKU Units (#)</th>\n",
       "      <th>7 Day Advertised SKU Sales</th>\n",
       "      <th>7 Day Other SKU Sales</th>\n",
       "    </tr>\n",
       "  </thead>\n",
       "  <tbody>\n",
       "    <tr>\n",
       "      <th>0</th>\n",
       "      <td>2023-08-11</td>\n",
       "      <td>Rome Soap Dispenser Set</td>\n",
       "      <td>USD</td>\n",
       "      <td>RSDS - Exact - Main Competitors (10)</td>\n",
       "      <td>RSDS - Exact - Main Competitors (10)</td>\n",
       "      <td>asin=\"B0B9KYXTCM\"</td>\n",
       "      <td>-</td>\n",
       "      <td>b0b9kyxtcm</td>\n",
       "      <td>38</td>\n",
       "      <td>1</td>\n",
       "      <td>...</td>\n",
       "      <td>0.0</td>\n",
       "      <td>NaN</td>\n",
       "      <td>0.0</td>\n",
       "      <td>0</td>\n",
       "      <td>0</td>\n",
       "      <td>0.0</td>\n",
       "      <td>0</td>\n",
       "      <td>0</td>\n",
       "      <td>0.0</td>\n",
       "      <td>0</td>\n",
       "    </tr>\n",
       "    <tr>\n",
       "      <th>1</th>\n",
       "      <td>2023-08-14</td>\n",
       "      <td>Rome Soap Dispenser Set</td>\n",
       "      <td>USD</td>\n",
       "      <td>RSDS - Exact - Main Competitors (10)</td>\n",
       "      <td>RSDS - Exact - Main Competitors (10)</td>\n",
       "      <td>asin-expanded=\"B0BR7FWNY6\"</td>\n",
       "      <td>-</td>\n",
       "      <td>b0br7fwny6</td>\n",
       "      <td>45</td>\n",
       "      <td>1</td>\n",
       "      <td>...</td>\n",
       "      <td>0.0</td>\n",
       "      <td>NaN</td>\n",
       "      <td>0.0</td>\n",
       "      <td>0</td>\n",
       "      <td>0</td>\n",
       "      <td>0.0</td>\n",
       "      <td>0</td>\n",
       "      <td>0</td>\n",
       "      <td>0.0</td>\n",
       "      <td>0</td>\n",
       "    </tr>\n",
       "    <tr>\n",
       "      <th>2</th>\n",
       "      <td>2023-08-14</td>\n",
       "      <td>Rome Soap Dispenser Set</td>\n",
       "      <td>USD</td>\n",
       "      <td>RSDS - Exact - Main Competitors (10)</td>\n",
       "      <td>RSDS - Exact - Main Competitors (10)</td>\n",
       "      <td>asin-expanded=\"B0BKQ8LHTD\"</td>\n",
       "      <td>-</td>\n",
       "      <td>b0bkq8lhtd</td>\n",
       "      <td>122</td>\n",
       "      <td>1</td>\n",
       "      <td>...</td>\n",
       "      <td>0.0</td>\n",
       "      <td>NaN</td>\n",
       "      <td>0.0</td>\n",
       "      <td>0</td>\n",
       "      <td>0</td>\n",
       "      <td>0.0</td>\n",
       "      <td>0</td>\n",
       "      <td>0</td>\n",
       "      <td>0.0</td>\n",
       "      <td>0</td>\n",
       "    </tr>\n",
       "    <tr>\n",
       "      <th>3</th>\n",
       "      <td>2023-08-11</td>\n",
       "      <td>Rome Soap Dispenser Set</td>\n",
       "      <td>USD</td>\n",
       "      <td>RSDS - Exact - Main Competitors (10)</td>\n",
       "      <td>RSDS - Exact - Main Competitors (10)</td>\n",
       "      <td>asin=\"B097MZB86N\"</td>\n",
       "      <td>-</td>\n",
       "      <td>b097mzb86n</td>\n",
       "      <td>229</td>\n",
       "      <td>4</td>\n",
       "      <td>...</td>\n",
       "      <td>0.0</td>\n",
       "      <td>NaN</td>\n",
       "      <td>0.0</td>\n",
       "      <td>0</td>\n",
       "      <td>0</td>\n",
       "      <td>0.0</td>\n",
       "      <td>0</td>\n",
       "      <td>0</td>\n",
       "      <td>0.0</td>\n",
       "      <td>0</td>\n",
       "    </tr>\n",
       "    <tr>\n",
       "      <th>4</th>\n",
       "      <td>2023-08-12</td>\n",
       "      <td>Rome Soap Dispenser Set</td>\n",
       "      <td>USD</td>\n",
       "      <td>RSDS - Exact - Main Competitors (10)</td>\n",
       "      <td>RSDS - Exact - Main Competitors (10)</td>\n",
       "      <td>asin=\"B097MZB86N\"</td>\n",
       "      <td>-</td>\n",
       "      <td>b097mzb86n</td>\n",
       "      <td>72</td>\n",
       "      <td>2</td>\n",
       "      <td>...</td>\n",
       "      <td>0.0</td>\n",
       "      <td>NaN</td>\n",
       "      <td>0.0</td>\n",
       "      <td>0</td>\n",
       "      <td>0</td>\n",
       "      <td>0.0</td>\n",
       "      <td>0</td>\n",
       "      <td>0</td>\n",
       "      <td>0.0</td>\n",
       "      <td>0</td>\n",
       "    </tr>\n",
       "  </tbody>\n",
       "</table>\n",
       "<p>5 rows × 23 columns</p>\n",
       "</div>"
      ],
      "text/plain": [
       "        Date           Portfolio name Currency  \\\n",
       "0 2023-08-11  Rome Soap Dispenser Set      USD   \n",
       "1 2023-08-14  Rome Soap Dispenser Set      USD   \n",
       "2 2023-08-14  Rome Soap Dispenser Set      USD   \n",
       "3 2023-08-11  Rome Soap Dispenser Set      USD   \n",
       "4 2023-08-12  Rome Soap Dispenser Set      USD   \n",
       "\n",
       "                          Campaign Name                         Ad Group Name  \\\n",
       "0  RSDS - Exact - Main Competitors (10)  RSDS - Exact - Main Competitors (10)   \n",
       "1  RSDS - Exact - Main Competitors (10)  RSDS - Exact - Main Competitors (10)   \n",
       "2  RSDS - Exact - Main Competitors (10)  RSDS - Exact - Main Competitors (10)   \n",
       "3  RSDS - Exact - Main Competitors (10)  RSDS - Exact - Main Competitors (10)   \n",
       "4  RSDS - Exact - Main Competitors (10)  RSDS - Exact - Main Competitors (10)   \n",
       "\n",
       "                    Targeting Match Type Customer Search Term  Impressions  \\\n",
       "0           asin=\"B0B9KYXTCM\"          -           b0b9kyxtcm           38   \n",
       "1  asin-expanded=\"B0BR7FWNY6\"          -           b0br7fwny6           45   \n",
       "2  asin-expanded=\"B0BKQ8LHTD\"          -           b0bkq8lhtd          122   \n",
       "3           asin=\"B097MZB86N\"          -           b097mzb86n          229   \n",
       "4           asin=\"B097MZB86N\"          -           b097mzb86n           72   \n",
       "\n",
       "   Clicks  ...  7 Day Total Sales   Total Advertising Cost of Sales (ACOS)   \\\n",
       "0       1  ...                 0.0                                      NaN   \n",
       "1       1  ...                 0.0                                      NaN   \n",
       "2       1  ...                 0.0                                      NaN   \n",
       "3       4  ...                 0.0                                      NaN   \n",
       "4       2  ...                 0.0                                      NaN   \n",
       "\n",
       "   Total Return on Advertising Spend (ROAS)  7 Day Total Orders (#)  \\\n",
       "0                                       0.0                       0   \n",
       "1                                       0.0                       0   \n",
       "2                                       0.0                       0   \n",
       "3                                       0.0                       0   \n",
       "4                                       0.0                       0   \n",
       "\n",
       "   7 Day Total Units (#)  7 Day Conversion Rate  \\\n",
       "0                      0                    0.0   \n",
       "1                      0                    0.0   \n",
       "2                      0                    0.0   \n",
       "3                      0                    0.0   \n",
       "4                      0                    0.0   \n",
       "\n",
       "   7 Day Advertised SKU Units (#)  7 Day Other SKU Units (#)  \\\n",
       "0                               0                          0   \n",
       "1                               0                          0   \n",
       "2                               0                          0   \n",
       "3                               0                          0   \n",
       "4                               0                          0   \n",
       "\n",
       "   7 Day Advertised SKU Sales   7 Day Other SKU Sales   \n",
       "0                          0.0                       0  \n",
       "1                          0.0                       0  \n",
       "2                          0.0                       0  \n",
       "3                          0.0                       0  \n",
       "4                          0.0                       0  \n",
       "\n",
       "[5 rows x 23 columns]"
      ]
     },
     "execution_count": 32,
     "metadata": {},
     "output_type": "execute_result"
    }
   ],
   "source": [
    "report.head()"
   ]
  },
  {
   "cell_type": "code",
   "execution_count": 24,
   "metadata": {},
   "outputs": [],
   "source": [
    "ppc_analysis = PPCAnalysis(\n",
    "    date=date(2023, 8, 9),\n",
    "    impressions=1588,\n",
    "    clicks=10,\n",
    "    CPC=0.58,\n",
    "    ppc_spend=5.84,\n",
    "    ppc_orders=0,\n",
    "    ppc_sales=0.0,\n",
    "    campaign=None,\n",
    "    impressions_share=None,\n",
    ")"
   ]
  },
  {
   "cell_type": "code",
   "execution_count": 25,
   "metadata": {},
   "outputs": [
    {
     "data": {
      "text/plain": [
       "0.6297229219143577"
      ]
     },
     "execution_count": 25,
     "metadata": {},
     "output_type": "execute_result"
    }
   ],
   "source": [
    "ppc_analysis.CTR() * 100"
   ]
  },
  {
   "cell_type": "code",
   "execution_count": 26,
   "metadata": {},
   "outputs": [
    {
     "data": {
      "text/plain": [
       "0.0"
      ]
     },
     "execution_count": 26,
     "metadata": {},
     "output_type": "execute_result"
    }
   ],
   "source": [
    "ppc_analysis.CR()"
   ]
  },
  {
   "cell_type": "code",
   "execution_count": 27,
   "metadata": {},
   "outputs": [],
   "source": [
    "ppc_analysis.ACOS()"
   ]
  },
  {
   "cell_type": "code",
   "execution_count": 28,
   "metadata": {},
   "outputs": [
    {
     "data": {
      "text/plain": [
       "{'date': '2023-08-09',\n",
       " 'impressions': 1588,\n",
       " 'impressions_share': None,\n",
       " 'clicks': 10,\n",
       " 'CTR': 0.006297229219143577,\n",
       " 'ppc_spend': 5.84,\n",
       " 'ppc_orders': 0,\n",
       " 'ppc_sales': 0.0,\n",
       " 'CPC': 0.58,\n",
       " 'CR': 0.0,\n",
       " 'ACOS': None}"
      ]
     },
     "execution_count": 28,
     "metadata": {},
     "output_type": "execute_result"
    }
   ],
   "source": [
    "ppc_analysis.to_dict()"
   ]
  },
  {
   "cell_type": "code",
   "execution_count": null,
   "metadata": {},
   "outputs": [],
   "source": [
    "performance = PerformanceAnalysis(\n",
    "    date=date(2023, 8, 9),\n",
    "    product=product,\n",
    "    daily_ppc_analysis=ppc_analysis,\n",
    "    total_orders=1,\n",
    "    total_sales=44.99,\n",
    "    units_day_before=504,\n",
    ")"
   ]
  },
  {
   "cell_type": "code",
   "execution_count": 13,
   "metadata": {},
   "outputs": [
    {
     "data": {
      "text/plain": [
       "6.3885000000000005"
      ]
     },
     "execution_count": 13,
     "metadata": {},
     "output_type": "execute_result"
    }
   ],
   "source": [
    "(0.15*35.99)+0.99"
   ]
  },
  {
   "cell_type": "code",
   "execution_count": null,
   "metadata": {},
   "outputs": [],
   "source": [
    "39.99*"
   ]
  },
  {
   "cell_type": "code",
   "execution_count": null,
   "metadata": {},
   "outputs": [],
   "source": []
  },
  {
   "cell_type": "code",
   "execution_count": null,
   "metadata": {},
   "outputs": [],
   "source": [
    "today_campaign_analysis = CampaignAnalysis(...)\n",
    "today_daily_analysis = PerformanceAnalysis(...)"
   ]
  },
  {
   "cell_type": "code",
   "execution_count": null,
   "metadata": {},
   "outputs": [],
   "source": [
    "\n",
    "data.append(today_daily_analysis.to_dict())"
   ]
  },
  {
   "cell_type": "code",
   "execution_count": null,
   "metadata": {},
   "outputs": [],
   "source": [
    "with open(\"analysis/data.json\", \"w\") as f:\n",
    "    data = json.dump(data, f)"
   ]
  },
  {
   "cell_type": "code",
   "execution_count": null,
   "metadata": {},
   "outputs": [],
   "source": [
    "df = pd.DataFrame(data)"
   ]
  },
  {
   "attachments": {},
   "cell_type": "markdown",
   "metadata": {},
   "source": [
    "Do daily visualizations"
   ]
  },
  {
   "cell_type": "code",
   "execution_count": null,
   "metadata": {},
   "outputs": [],
   "source": [
    "# Split dataframe into chunks of 7 days\n",
    "n = 7\n",
    "data_week = []\n",
    "for week, i in enumerate(range(0, len(df), n)):\n",
    "    df_week = df[i:i+n]\n",
    "    campaign = CampaignAnalysis(\n",
    "        date=df_week[\"date\"].max(),\n",
    "        ppc_spend=df_week[\"ppc_spend\"].sum(),\n",
    "        ppc_orders=df_week[\"ppc_orders\"].sum(),\n",
    "        ppc_sales=df_week[\"ppc_sales\"].sum(),\n",
    "        CTR=df_week[\"CTR\"].mean(),\n",
    "        CPC=df_week[\"CPC\"].mean(),\n",
    "    )\n",
    "    product = Product(\n",
    "        price=df_week[\"price\"].mean(),\n",
    "        exw_cost=df_week[\"exw_cost\"].mean(),\n",
    "        package_cost=df_week[\"package_cost\"].mean(),\n",
    "        shipment_cost=df_week[\"shipment_cost\"].mean(),\n",
    "        fees=df_week[\"fees\"].mean(),\n",
    "    )\n",
    "    performance_week = PerformanceAnalysis(\n",
    "        product=product,\n",
    "        daily_campaign_analysis=campaign,\n",
    "        total_orders=df_week[\"total_orders\"].sum(),\n",
    "        total_sales=df_week[\"total_sales\"].sum(),\n",
    "        units_left=df_week[\"units_left\"][-1],\n",
    "        sessions=df_week[\"sessions\"].sum(),\n",
    "    )\n",
    "\n",
    "    performance_week_dict = performance_week.to_dict()\n",
    "    performance_week_dict[\"week\"] = week\n",
    "    data_week.append(performance_week_dict)"
   ]
  },
  {
   "cell_type": "code",
   "execution_count": null,
   "metadata": {},
   "outputs": [],
   "source": [
    "df_week = pd.DataFrame(data_week)"
   ]
  },
  {
   "attachments": {},
   "cell_type": "markdown",
   "metadata": {},
   "source": [
    "Do weekly analysis"
   ]
  },
  {
   "attachments": {},
   "cell_type": "markdown",
   "metadata": {},
   "source": [
    "# More money spend on adds should imply more sessions and more TOTAL sales. Cost per session tells me how efficient my adds are.\n"
   ]
  },
  {
   "attachments": {},
   "cell_type": "markdown",
   "metadata": {},
   "source": [
    "Estimate improvements if lowering ppc spend by 20% mantaining everything else"
   ]
  },
  {
   "attachments": {},
   "cell_type": "markdown",
   "metadata": {},
   "source": []
  }
 ],
 "metadata": {
  "kernelspec": {
   "display_name": "amazon_fba",
   "language": "python",
   "name": "python3"
  },
  "language_info": {
   "codemirror_mode": {
    "name": "ipython",
    "version": 3
   },
   "file_extension": ".py",
   "mimetype": "text/x-python",
   "name": "python",
   "nbconvert_exporter": "python",
   "pygments_lexer": "ipython3",
   "version": "3.10.5"
  },
  "orig_nbformat": 4
 },
 "nbformat": 4,
 "nbformat_minor": 2
}
